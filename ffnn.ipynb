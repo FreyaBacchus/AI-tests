{
  "nbformat": 4,
  "nbformat_minor": 0,
  "metadata": {
    "colab": {
      "name": "ffnn.ipynb",
      "provenance": [],
      "authorship_tag": "ABX9TyMam3B0QXW5tElF7QlV3O2I",
      "include_colab_link": true
    },
    "kernelspec": {
      "name": "python3",
      "display_name": "Python 3"
    }
  },
  "cells": [
    {
      "cell_type": "markdown",
      "metadata": {
        "id": "view-in-github",
        "colab_type": "text"
      },
      "source": [
        "<a href=\"https://colab.research.google.com/github/FreyaBacchus/AI-tests/blob/main/ffnn.ipynb\" target=\"_parent\"><img src=\"https://colab.research.google.com/assets/colab-badge.svg\" alt=\"Open In Colab\"/></a>"
      ]
    },
    {
      "cell_type": "code",
      "metadata": {
        "id": "fmrEzdBHTS_U"
      },
      "source": [
        "import pandas as pd\n",
        "import numpy as np\n",
        "from keras.models import Sequential\n",
        "from keras.layers.core import Dense\n",
        "from google.colab import drive\n",
        "drive.mount('/content/drive')\n",
        "\n"
      ],
      "execution_count": null,
      "outputs": []
    },
    {
      "cell_type": "code",
      "metadata": {
        "id": "tw-IOFtwaVWS"
      },
      "source": [
        "TARGET_VARIABLE =\"user_action\"\n",
        "TRAIN_TEST_SPLIT=0.5\n",
        "HIDDEN_LAYER_SIZE=30\n",
        "raw_data = pd.read_csv(\"/content/drive/My Drive/Programming/ML-tests/data.csv\")\n"
      ],
      "execution_count": null,
      "outputs": []
    },
    {
      "cell_type": "code",
      "metadata": {
        "id": "iRAYJPBjaYvh"
      },
      "source": [
        "mask = np.random.rand(len(raw_data)) < TRAIN_TEST_SPLIT\n",
        "tr_dataset = raw_data[mask]\n",
        "te_dataset = raw_data[∼mask]\n",
        "\n",
        "tr_data = np.array(raw_data.drop(TARGET_VARIABLE,axis=1))\n",
        "tr_labels = np.array(raw_data[[TARGET_VARIABLE]])\n",
        "te_data = np.array(te_dataset.drop(TARGET_VARIABLE,axis=1))\n",
        "te_labels = np.array(te_dataset[[TARGET_VARIABLE]])\n"
      ],
      "execution_count": null,
      "outputs": []
    },
    {
      "cell_type": "code",
      "metadata": {
        "id": "QXY66XrVab8i"
      },
      "source": [
        "ffnn = Sequential()\n",
        "ffnn.add(Dense(HIDDEN_LAYER_SIZE, input_shape=(3,),activation=\"sigmoid\"))\n",
        "ffnn.add(Dense(1, activation=\"sigmoid\"))\n",
        "ffnn.compile(loss=\"mean_squared_error\", optimizer=\"sgd\", metrics=[’accuracy’])\n",
        "ffnn.fit(tr_data, tr_labels, epochs=150, batch_size=2,verbose=1)\n",
        "\n",
        "metrics = ffnn.evaluate(te_data, te_labels, verbose=1)\n",
        "print(\"%s: %.2f%%\" % (ffnn.metrics_names[1],metrics[1]*100))\n"
      ],
      "execution_count": null,
      "outputs": []
    }
  ]
}