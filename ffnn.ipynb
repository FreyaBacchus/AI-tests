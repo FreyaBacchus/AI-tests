{
  "nbformat": 4,
  "nbformat_minor": 0,
  "metadata": {
    "colab": {
      "name": "ffnn.ipynb",
      "provenance": [],
      "authorship_tag": "ABX9TyP6xRe+iJZ9GZMUJROytzB6",
      "include_colab_link": true
    },
    "kernelspec": {
      "name": "python3",
      "display_name": "Python 3"
    }
  },
  "cells": [
    {
      "cell_type": "markdown",
      "metadata": {
        "id": "view-in-github",
        "colab_type": "text"
      },
      "source": [
        "<a href=\"https://colab.research.google.com/github/FreyaBacchus/AI-tests/blob/main/ffnn.ipynb\" target=\"_parent\"><img src=\"https://colab.research.google.com/assets/colab-badge.svg\" alt=\"Open In Colab\"/></a>"
      ]
    },
    {
      "cell_type": "code",
      "metadata": {
        "colab": {
          "base_uri": "https://localhost:8080/"
        },
        "id": "fmrEzdBHTS_U",
        "outputId": "9e5e820d-5f2e-4afd-fd70-0e0ad58630fe"
      },
      "source": [
        "import pandas as pd\n",
        "import numpy as np\n",
        "from keras.models import Sequential\n",
        "from keras.layers.core import Dense\n",
        "from google.colab import drive\n",
        "drive.mount('/content/drive')\n",
        "\n"
      ],
      "execution_count": 1,
      "outputs": [
        {
          "output_type": "stream",
          "text": [
            "Mounted at /content/drive\n"
          ],
          "name": "stdout"
        }
      ]
    },
    {
      "cell_type": "code",
      "metadata": {
        "id": "tw-IOFtwaVWS"
      },
      "source": [
        "TARGET_VARIABLE =\"user_action\"\n",
        "TRAIN_TEST_SPLIT=0.5\n",
        "HIDDEN_LAYER_SIZE=30\n",
        "raw_data = pd.read_csv(\"/content/drive/My Drive/Programming/ML-tests/data.csv\")\n"
      ],
      "execution_count": 2,
      "outputs": []
    },
    {
      "cell_type": "code",
      "metadata": {
        "id": "iRAYJPBjaYvh"
      },
      "source": [
        "mask = np.random.rand(len(raw_data)) < TRAIN_TEST_SPLIT\n",
        "tr_dataset = raw_data[mask]\n",
        "te_dataset = raw_data[mask]\n",
        "\n",
        "tr_data = np.array(raw_data.drop(TARGET_VARIABLE,axis=1))\n",
        "tr_labels = np.array(raw_data[[TARGET_VARIABLE]])\n",
        "te_data = np.array(te_dataset.drop(TARGET_VARIABLE,axis=1))\n",
        "te_labels = np.array(te_dataset[[TARGET_VARIABLE]])\n"
      ],
      "execution_count": 4,
      "outputs": []
    },
    {
      "cell_type": "code",
      "metadata": {
        "colab": {
          "base_uri": "https://localhost:8080/"
        },
        "id": "QXY66XrVab8i",
        "outputId": "5c780894-a161-43bb-a832-3eff6d34be11"
      },
      "source": [
        "ffnn = Sequential()\n",
        "ffnn.add(Dense(HIDDEN_LAYER_SIZE, input_shape=(3,),activation=\"sigmoid\"))\n",
        "ffnn.add(Dense(1, activation=\"sigmoid\"))\n",
        "ffnn.compile(loss=\"mean_squared_error\", optimizer=\"sgd\", metrics=['accuracy'])\n",
        "ffnn.fit(tr_data, tr_labels, epochs=30, batch_size=2,verbose=1)\n",
        "\n",
        "metrics = ffnn.evaluate(te_data, te_labels, verbose=1)\n",
        "print(\"%s: %.2f%%\" % (ffnn.metrics_names[1],metrics[1]*100))\n"
      ],
      "execution_count": 7,
      "outputs": [
        {
          "output_type": "stream",
          "text": [
            "Epoch 1/30\n",
            "5/5 [==============================] - 0s 2ms/step - loss: 0.2544 - accuracy: 0.5000\n",
            "Epoch 2/30\n",
            "5/5 [==============================] - 0s 2ms/step - loss: 0.2522 - accuracy: 0.5000\n",
            "Epoch 3/30\n",
            "5/5 [==============================] - 0s 2ms/step - loss: 0.2476 - accuracy: 0.5000\n",
            "Epoch 4/30\n",
            "5/5 [==============================] - 0s 2ms/step - loss: 0.2453 - accuracy: 0.5000\n",
            "Epoch 5/30\n",
            "5/5 [==============================] - 0s 2ms/step - loss: 0.2427 - accuracy: 0.5000\n",
            "Epoch 6/30\n",
            "5/5 [==============================] - 0s 1ms/step - loss: 0.2412 - accuracy: 0.5000\n",
            "Epoch 7/30\n",
            "5/5 [==============================] - 0s 2ms/step - loss: 0.2393 - accuracy: 0.6000\n",
            "Epoch 8/30\n",
            "5/5 [==============================] - 0s 1ms/step - loss: 0.2392 - accuracy: 0.6000\n",
            "Epoch 9/30\n",
            "5/5 [==============================] - 0s 1ms/step - loss: 0.2361 - accuracy: 0.6000\n",
            "Epoch 10/30\n",
            "5/5 [==============================] - 0s 1ms/step - loss: 0.2342 - accuracy: 0.6000\n",
            "Epoch 11/30\n",
            "5/5 [==============================] - 0s 1ms/step - loss: 0.2313 - accuracy: 0.6000\n",
            "Epoch 12/30\n",
            "5/5 [==============================] - 0s 1ms/step - loss: 0.2324 - accuracy: 0.7000\n",
            "Epoch 13/30\n",
            "5/5 [==============================] - 0s 2ms/step - loss: 0.2334 - accuracy: 0.7000\n",
            "Epoch 14/30\n",
            "5/5 [==============================] - 0s 1ms/step - loss: 0.2300 - accuracy: 0.6000\n",
            "Epoch 15/30\n",
            "5/5 [==============================] - 0s 1ms/step - loss: 0.2291 - accuracy: 0.7000\n",
            "Epoch 16/30\n",
            "5/5 [==============================] - 0s 1ms/step - loss: 0.2291 - accuracy: 0.7000\n",
            "Epoch 17/30\n",
            "5/5 [==============================] - 0s 1ms/step - loss: 0.2283 - accuracy: 0.7000\n",
            "Epoch 18/30\n",
            "5/5 [==============================] - 0s 2ms/step - loss: 0.2302 - accuracy: 0.7000\n",
            "Epoch 19/30\n",
            "5/5 [==============================] - 0s 2ms/step - loss: 0.2261 - accuracy: 0.7000\n",
            "Epoch 20/30\n",
            "5/5 [==============================] - 0s 1ms/step - loss: 0.2266 - accuracy: 0.7000\n",
            "Epoch 21/30\n",
            "5/5 [==============================] - 0s 1ms/step - loss: 0.2280 - accuracy: 0.7000\n",
            "Epoch 22/30\n",
            "5/5 [==============================] - 0s 2ms/step - loss: 0.2280 - accuracy: 0.7000\n",
            "Epoch 23/30\n",
            "5/5 [==============================] - 0s 1ms/step - loss: 0.2284 - accuracy: 0.8000\n",
            "Epoch 24/30\n",
            "5/5 [==============================] - 0s 2ms/step - loss: 0.2259 - accuracy: 0.7000\n",
            "Epoch 25/30\n",
            "5/5 [==============================] - 0s 2ms/step - loss: 0.2251 - accuracy: 0.7000\n",
            "Epoch 26/30\n",
            "5/5 [==============================] - 0s 1ms/step - loss: 0.2235 - accuracy: 0.7000\n",
            "Epoch 27/30\n",
            "5/5 [==============================] - 0s 2ms/step - loss: 0.2228 - accuracy: 0.7000\n",
            "Epoch 28/30\n",
            "5/5 [==============================] - 0s 2ms/step - loss: 0.2249 - accuracy: 0.7000\n",
            "Epoch 29/30\n",
            "5/5 [==============================] - 0s 2ms/step - loss: 0.2218 - accuracy: 0.7000\n",
            "Epoch 30/30\n",
            "5/5 [==============================] - 0s 1ms/step - loss: 0.2276 - accuracy: 0.7000\n",
            "1/1 [==============================] - 0s 1ms/step - loss: 0.2318 - accuracy: 0.7500\n",
            "accuracy: 75.00%\n"
          ],
          "name": "stdout"
        }
      ]
    }
  ]
}